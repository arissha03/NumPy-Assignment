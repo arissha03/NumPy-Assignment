{
  "nbformat": 4,
  "nbformat_minor": 0,
  "metadata": {
    "colab": {
      "provenance": []
    },
    "kernelspec": {
      "name": "python3",
      "display_name": "Python 3"
    },
    "language_info": {
      "name": "python"
    }
  },
  "cells": [
    {
      "cell_type": "code",
      "execution_count": null,
      "metadata": {
        "id": "8-hpp7-upwVV"
      },
      "outputs": [],
      "source": []
    },
    {
      "cell_type": "markdown",
      "source": [
        "# **Theoretical Questions:**"
      ],
      "metadata": {
        "id": "nWKoqDFip3W0"
      }
    },
    {
      "cell_type": "markdown",
      "source": [
        "1. Explain the purpose and advantages of NumPy in scientific computing and data analysis. How does it\n",
        "enhance Python's capabilities for numerical operations?\n",
        "\n",
        "---\n",
        "NumPy, short for Numerical Python, is a powerful library for numerical computing in Python. It provides support for arrays, matrices, and a wide variety of mathematical functions to operate on these data structures. Here are some key points regarding its purpose, advantages, and how it enhances Python's capabilities for numerical operations.\n",
        "\n",
        "Purpose of NumPy\n",
        "Efficient Data Handling:\n",
        "\n",
        "NumPy provides a robust data structure called ndarray, which allows for efficient storage and manipulation of large datasets, especially in multi-dimensional formats.\n",
        "Mathematical Operations:\n",
        "\n",
        "It includes a range of mathematical functions to perform operations on arrays and matrices, making it ideal for scientific computing and data analysis.\n",
        "Interoperability:\n",
        "\n",
        "NumPy integrates seamlessly with other scientific libraries like SciPy, pandas, and Matplotlib, forming a comprehensive ecosystem for data analysis and visualization.\n",
        "Advantages of NumPy\n",
        "Performance:\n",
        "\n",
        "NumPy operations are significantly faster than traditional Python lists, primarily due to its implementation in C and the ability to utilize optimized libraries for numerical computations (like BLAS and LAPACK).\n",
        "Vectorized operations allow for element-wise operations on entire arrays without explicit loops, reducing the execution time.\n",
        "Memory Efficiency:\n",
        "\n",
        "NumPy arrays consume less memory than Python lists because they are densely packed in memory and have a fixed data type, which enhances performance and reduces memory usage.\n",
        "Convenience:\n",
        "\n",
        "NumPy offers a wide variety of built-in functions for linear algebra, statistics, and random number generation, which simplifies complex numerical computations.\n",
        "It supports advanced indexing and slicing, making data manipulation more intuitive.\n",
        "Rich Functionality:\n",
        "\n",
        "NumPy provides functions for mathematical operations (like sin, cos, mean, std), linear algebra (like matrix multiplication, determinant, and eigenvalues), and Fourier transforms, among others.\n",
        "Broadcasting:\n",
        "\n",
        "NumPy supports broadcasting, a powerful mechanism that allows operations between arrays of different shapes, facilitating efficient and concise coding.\n",
        "Enhancing Python's Numerical Capabilities\n",
        "Array and Matrix Operations:\n",
        "\n",
        "NumPy's ndarray allows for multi-dimensional array operations that are not natively supported by Python lists. This capability makes it easy to perform mathematical operations directly on data structures without looping through elements.\n",
        "Linear Algebra Support:\n",
        "\n",
        "NumPy provides extensive functions for linear algebra, making it easier to solve systems of equations, perform matrix decompositions, and conduct eigenvalue analysis.\n",
        "Statistical Functions:\n",
        "\n",
        "Built-in statistical functions allow for easy computation of means, medians, variances, and other statistical measures directly on arrays.\n",
        "Integration with Other Libraries:\n",
        "\n",
        "Many scientific libraries in Python (like SciPy, pandas, and scikit-learn) are built on top of NumPy, enabling users to leverage its array structure and mathematical functions across various domains, from data analysis to machine learning.\n"
      ],
      "metadata": {
        "id": "agD2wCpGp_zZ"
      }
    },
    {
      "cell_type": "markdown",
      "source": [
        "2. Compare and contrast np.mean() and np.average() functions in NumPy. When would you use one over the\n",
        "other?\n",
        "\n",
        "---\n",
        "Both np.mean() and np.average() are functions in NumPy used to compute the average of array elements, but they have some important differences in functionality and flexibility. Here’s a comparison:\n",
        "\n",
        "np.mean()\n",
        "Purpose: Computes the arithmetic mean (average) of the elements in an array.\n",
        "Parameters:\n",
        "array: Input array.\n",
        "axis: Axis along which the mean is computed. Default is None, which computes the mean of the flattened array.\n",
        "dtype: Data type used in the calculation.\n",
        "out: Alternative output array to store the result.\n",
        "Return Value: Returns a scalar value (or an array if an axis is specified) representing the mean of the input array.\n",
        "np.average()\n",
        "Purpose: Computes the weighted average of the elements in an array, allowing for more flexibility.\n",
        "\n",
        "Parameters:\n",
        "array: Input array.\n",
        "weights: An optional array of the same shape as array that specifies the weight for each element. If not specified, all elements are considered equally weighted.\n",
        "axis: Axis along which the average is computed. Default is None.\n",
        "returned: If True, it returns a tuple of the average and the sum of the weights.\n",
        "Return Value: Returns the weighted average (or unweighted average if weights are not provided). It can also return the sum of the weights if returned=True.\n",
        "Key Differences\n",
        "Weights:\n",
        "\n",
        "np.mean(): Always computes the unweighted average.\n",
        "np.average(): Can compute weighted averages, making it more versatile in certain situations.\n",
        "Functionality:\n",
        "\n",
        "np.mean(): Simpler and more straightforward for basic averaging tasks.\n",
        "np.average(): More flexible, particularly useful when dealing with data that requires weighting.\n",
        "Performance:\n",
        "\n",
        "Both functions are optimized for performance, but since np.mean() is less complex, it may be slightly faster when only computing the average without weights.\n",
        "When to Use Each\n",
        "Use np.mean():\n",
        "\n",
        "When you simply need to compute the average of an array without any additional complexity.\n",
        "For straightforward averaging tasks, such as analyzing data distributions.\n",
        "Use np.average():\n",
        "\n",
        "When you need to compute a weighted average, especially when some values in the dataset are more significant than others.\n",
        "For cases where you have associated weights for each element (e.g., when averaging test scores based on the importance of each test).\n"
      ],
      "metadata": {
        "id": "x0hxeDd6sAU_"
      }
    },
    {
      "cell_type": "markdown",
      "source": [
        "3. Describe the methods for reversing a NumPy array along different axes. Provide examples for 1D and 2D\n",
        "arrays.\n",
        "\n",
        "---\n",
        "\n",
        "Reversing a NumPy array can be accomplished using various methods, depending on whether you're dealing with 1D or 2D arrays and the specific axis along which you want to reverse the array. Here’s a breakdown of how to reverse NumPy arrays along different axes, along with examples.\n",
        "\n",
        "Reversing a 1D Array\n",
        "For a 1D array, reversing can be done simply by slicing. Here’s how to do it:\n",
        "\n",
        "Method 1: Slicing\n",
        "You can reverse a 1D array by using slicing with a step of -1.\n",
        "Reversing a 2D Array\n",
        "For 2D arrays, you can reverse along specific axes using similar slicing techniques or the np.flip() function.\n",
        "\n",
        "Method 2: Slicing for 2D Arrays\n",
        "To reverse a 2D array along specific axes, you can specify the axis in the slicing notation.\n",
        "\n",
        "Method 3: Using np.flip()\n",
        "The np.flip() function can also be used to reverse an array along a specified axis."
      ],
      "metadata": {
        "id": "YdONiidnsekW"
      }
    },
    {
      "cell_type": "code",
      "source": [
        "import numpy as np\n",
        "\n",
        "# Creating a 1D array\n",
        "arr_1d = np.array([1, 2, 3, 4, 5])\n",
        "\n",
        "# Reversing the 1D array\n",
        "reversed_arr_1d = arr_1d[::-1]\n",
        "\n",
        "print(\"Original 1D Array:\", arr_1d)\n",
        "print(\"Reversed 1D Array:\", reversed_arr_1d)\n",
        "# Creating a 2D array\n",
        "arr_2d = np.array([[1, 2, 3],\n",
        "                   [4, 5, 6],\n",
        "                   [7, 8, 9]])\n",
        "\n",
        "# Reversing along the first axis (rows)\n",
        "reversed_rows = arr_2d[::-1]\n",
        "\n",
        "# Reversing along the second axis (columns)\n",
        "reversed_cols = arr_2d[:, ::-1]\n",
        "\n",
        "print(\"Original 2D Array:\\n\", arr_2d)\n",
        "print(\"Reversed 2D Array (rows):\\n\", reversed_rows)\n",
        "print(\"Reversed 2D Array (columns):\\n\", reversed_cols)\n",
        "# Reversing along the first axis (rows)\n",
        "flipped_rows = np.flip(arr_2d, axis=0)\n",
        "\n",
        "# Reversing along the second axis (columns)\n",
        "flipped_cols = np.flip(arr_2d, axis=1)\n",
        "\n",
        "print(\"Flipped 2D Array (rows):\\n\", flipped_rows)\n",
        "print(\"Flipped 2D Array (columns):\\n\", flipped_cols)"
      ],
      "metadata": {
        "colab": {
          "base_uri": "https://localhost:8080/"
        },
        "id": "a48d17fXs4KU",
        "outputId": "ba84c662-7a42-4b79-e206-93c7027bddc5"
      },
      "execution_count": 1,
      "outputs": [
        {
          "output_type": "stream",
          "name": "stdout",
          "text": [
            "Original 1D Array: [1 2 3 4 5]\n",
            "Reversed 1D Array: [5 4 3 2 1]\n",
            "Original 2D Array:\n",
            " [[1 2 3]\n",
            " [4 5 6]\n",
            " [7 8 9]]\n",
            "Reversed 2D Array (rows):\n",
            " [[7 8 9]\n",
            " [4 5 6]\n",
            " [1 2 3]]\n",
            "Reversed 2D Array (columns):\n",
            " [[3 2 1]\n",
            " [6 5 4]\n",
            " [9 8 7]]\n",
            "Flipped 2D Array (rows):\n",
            " [[7 8 9]\n",
            " [4 5 6]\n",
            " [1 2 3]]\n",
            "Flipped 2D Array (columns):\n",
            " [[3 2 1]\n",
            " [6 5 4]\n",
            " [9 8 7]]\n"
          ]
        }
      ]
    },
    {
      "cell_type": "markdown",
      "source": [
        "4. How can you determine the data type of elements in a NumPy array? Discuss the importance of data types\n",
        "in memory management and performance.\n",
        "Importance of Data Types\n",
        "Memory Management:\n",
        "\n",
        "Memory Size: Different data types require different amounts of memory. For example, an int8 uses 1 byte, while an int64 uses 8 bytes. Choosing the right data type can significantly reduce memory consumption, especially when dealing with large datasets.\n",
        "Storage Efficiency: Using the most appropriate data type allows for efficient storage of large arrays. For example, if you know your data values will always be less than 256, using uint8 instead of int32 saves memory.\n",
        "Performance:\n",
        "\n",
        "Speed of Operations: NumPy operations are optimized for specific data types. For instance, operations on integers may be faster than those on floating-point numbers due to lower complexity in arithmetic.\n",
        "Vectorization: NumPy’s ability to perform vectorized operations relies heavily on data types. Using homogeneous data types allows for faster computation as NumPy can leverage optimized algorithms for those types.\n",
        "Precision:\n",
        "\n",
        "Data Accuracy: The choice of data type affects the precision of numerical computations. For example, using float32 instead of float64 can lead to loss of precision in calculations that require high accuracy, such as scientific computations.\n",
        "Compatibility:\n",
        "\n",
        "Interoperability: Data types influence compatibility with other libraries and data formats. For instance, certain functions in libraries like pandas or machine learning libraries may expect specific data types for optimal functionality."
      ],
      "metadata": {
        "id": "_VzqR-rS31OE"
      }
    },
    {
      "cell_type": "markdown",
      "source": [
        "5. Define ndarrays in NumPy and explain their key features. How do they differ from standard Python lists?\n",
        "\n",
        "---\n",
        "In NumPy, ndarrays (n-dimensional arrays) are the core data structure used for numerical computations. They provide a powerful way to store and manipulate large datasets efficiently. Here’s a detailed explanation of ndarrays, their key features, and how they differ from standard Python lists.\n",
        "\n",
        "Definition of ndarrays\n",
        "An ndarray is a homogeneous, multidimensional array that allows for efficient storage and manipulation of numerical data. It is a grid of values, all of the same type, and is indexed by a tuple of non-negative integers.\n",
        "\n",
        "Key Features of ndarrays\n",
        "Homogeneity:\n",
        "\n",
        "All elements in an ndarray must be of the same data type (e.g., all integers, all floats). This uniformity allows for optimized performance and memory efficiency.\n",
        "Multidimensionality:\n",
        "\n",
        "ndarrays can have any number of dimensions (1D, 2D, 3D, etc.). This makes them suitable for representing vectors, matrices, and higher-dimensional data structures.\n",
        "Memory Efficiency:\n",
        "\n",
        "ndarrays are implemented in C and can use contiguous blocks of memory, making them more efficient than Python lists, especially for large datasets.\n",
        "Performance:\n",
        "\n",
        "NumPy operations on ndarrays are highly optimized. Element-wise operations, mathematical functions, and linear algebra computations are performed using efficient algorithms, often leading to faster execution times compared to native Python loops.\n",
        "Broadcasting:\n",
        "\n",
        "NumPy supports broadcasting, which allows operations between arrays of different shapes and sizes. This feature simplifies code and enables vectorized operations without the need for explicit loops.\n",
        "Rich Functionality:\n",
        "\n",
        "NumPy provides a vast library of mathematical functions that can be applied to ndarrays, including linear algebra, statistics, and Fourier transforms.\n",
        "Flexible Reshaping:\n",
        "\n",
        "You can easily change the shape of an ndarray without changing its data, which is useful for data preprocessing and analysis.\n",
        "Indexing and Slicing:\n",
        "\n",
        "ndarrays support advanced indexing and slicing, allowing for easy selection and modification of subsets of data.\n",
        "Differences from Standard Python Lists\n",
        "Homogeneity vs. Heterogeneity:\n",
        "\n",
        "ndarrays: Must contain elements of the same type.\n",
        "Python Lists: Can contain elements of different types (e.g., integers, strings, other lists).\n",
        "Dimensionality:\n",
        "\n",
        "ndarrays: Can be n-dimensional.\n",
        "Python Lists: Primarily 1D, but can be nested to create multi-dimensional structures, which can be less efficient and harder to manage.\n",
        "Performance:\n",
        "\n",
        "ndarrays: Optimized for performance and memory efficiency; faster for numerical computations.\n",
        "Python Lists: Slower for large datasets and computational tasks, as they require more overhead due to their flexibility.\n",
        "Functionality:\n",
        "\n",
        "ndarrays: Come with a rich set of built-in mathematical functions and capabilities for numerical analysis.\n",
        "Python Lists: Lack built-in support for mathematical operations and require explicit loops for computations.\n",
        "Broadcasting:\n",
        "\n",
        "ndarrays: Support broadcasting, allowing operations on arrays of different shapes.\n",
        "Python Lists: Do not support broadcasting natively, requiring manual handling for operations involving different sizes.\n"
      ],
      "metadata": {
        "id": "zTnmnLMA37mT"
      }
    },
    {
      "cell_type": "markdown",
      "source": [
        "6. Analyze the performance benefits of NumPy arrays over Python lists for large-scale numerical operations.\n",
        "\n",
        "\n",
        "\n",
        "---\n",
        "NumPy arrays provide significant performance benefits over standard Python lists, especially for large-scale numerical operations. Here’s an analysis of these benefits:\n",
        "\n",
        "1. Memory Efficiency\n",
        "Contiguous Memory Allocation: NumPy arrays are stored in contiguous blocks of memory, which reduces overhead and improves cache locality. This means that when an array is processed, adjacent elements are likely to be in the cache, leading to faster access times.\n",
        "\n",
        "Fixed Data Type: NumPy arrays require all elements to be of the same type, which allows for more efficient use of memory. In contrast, Python lists can hold elements of different types, which incurs additional overhead for type management.\n",
        "\n",
        "2. Performance on Operations\n",
        "Vectorized Operations: NumPy allows for vectorized operations, which enable batch processing of data without the need for explicit loops in Python. This leads to significant speed improvements since operations are executed at a lower level (in C) rather than in the Python interpreter.\n",
        "\n",
        "Element-wise Operations: Operations on NumPy arrays are performed element-wise, allowing for concise and fast computations. For example, adding two large arrays together is done in a single command, while equivalent operations with lists would require looping through each element.\n",
        "\n",
        "3. Optimized Mathematical Functions\n",
        "Built-in Functions: NumPy provides a wide array of optimized mathematical functions that are specifically designed for array operations. These functions are implemented in C and are highly optimized for performance, enabling faster calculations compared to custom Python functions.\n",
        "\n",
        "Broadcasting: NumPy supports broadcasting, which allows for operations on arrays of different shapes without requiring explicit replication of data. This reduces memory usage and improves performance, especially when working with matrices or higher-dimensional data.\n",
        "\n",
        "4. Parallelization and SIMD Instructions\n",
        "Low-level Optimizations: NumPy leverages low-level libraries like BLAS and LAPACK, which are optimized for performance on modern CPUs. These libraries can take advantage of SIMD (Single Instruction, Multiple Data) instructions, allowing for parallel processing of array elements.\n",
        "5. Reduced Overhead\n",
        "Fewer Function Calls: Operations on NumPy arrays typically involve fewer function calls compared to list operations. This reduction in overhead leads to faster execution times, especially when performing numerous calculations.\n"
      ],
      "metadata": {
        "id": "H-7aigSD4PPa"
      }
    },
    {
      "cell_type": "markdown",
      "source": [
        "7. Compare vstack() and hstack() functions in NumPy. Provide examples demonstrating their usage and\n",
        "output.\n",
        "\n",
        "---\n",
        "In NumPy, vstack() and hstack() are functions used to stack arrays vertically and horizontally, respectively. Both functions allow for combining arrays into a larger array, but they do so along different axes. Here’s a detailed comparison of the two functions along with examples demonstrating their usage.\n",
        "\n",
        "1. vstack()\n",
        "Purpose: Stacks arrays vertically (row-wise).\n",
        "Axis: Stacks along the first axis (axis 0).\n",
        "Usage: Ideal for combining arrays that you want to stack on top of each other.\n",
        "2. hstack()\n",
        "Purpose: Stacks arrays horizontally (column-wise).\n",
        "Axis: Stacks along the second axis (axis 1).\n",
        "Usage: Suitable for combining arrays that you want to place side by side.\n"
      ],
      "metadata": {
        "id": "3DQFWqlZ4m5j"
      }
    },
    {
      "cell_type": "code",
      "source": [
        "#Example of vstack()\n",
        "import numpy as np\n",
        "\n",
        "# Creating two 2D arrays\n",
        "arr1 = np.array([[1, 2, 3],\n",
        "                 [4, 5, 6]])\n",
        "\n",
        "arr2 = np.array([[7, 8, 9],\n",
        "                 [10, 11, 12]])\n",
        "\n",
        "# Using vstack to stack the arrays vertically\n",
        "result_vstack = np.vstack((arr1, arr2))\n",
        "\n",
        "print(\"Array 1:\")\n",
        "print(arr1)\n",
        "print(\"\\nArray 2:\")\n",
        "print(arr2)\n",
        "print(\"\\nResult of vstack:\")\n",
        "print(result_vstack)\n",
        "#Example on hstack()\n",
        "import numpy as np\n",
        "result_hstack = np.hstack((arr1, arr2))\n",
        "\n",
        "print(\"\\nResult of hstack:\")\n",
        "print(result_hstack)"
      ],
      "metadata": {
        "colab": {
          "base_uri": "https://localhost:8080/"
        },
        "id": "OW7OIyHV41eJ",
        "outputId": "d004e7a7-e611-499e-f851-09bef8d2f40c"
      },
      "execution_count": 2,
      "outputs": [
        {
          "output_type": "stream",
          "name": "stdout",
          "text": [
            "Array 1:\n",
            "[[1 2 3]\n",
            " [4 5 6]]\n",
            "\n",
            "Array 2:\n",
            "[[ 7  8  9]\n",
            " [10 11 12]]\n",
            "\n",
            "Result of vstack:\n",
            "[[ 1  2  3]\n",
            " [ 4  5  6]\n",
            " [ 7  8  9]\n",
            " [10 11 12]]\n",
            "\n",
            "Result of hstack:\n",
            "[[ 1  2  3  7  8  9]\n",
            " [ 4  5  6 10 11 12]]\n"
          ]
        }
      ]
    },
    {
      "cell_type": "markdown",
      "source": [
        "8. Explain the differences between fliplr() and flipud() methods in NumPy, including their effects on various array dimensions.\n",
        "\n",
        "\n",
        "---\n",
        "\n",
        "In NumPy, fliplr() and flipud() are functions used to flip arrays, but they do so along different axes. Here’s an explanation of their differences and effects on various array dimensions.\n",
        "\n",
        "1. fliplr()\n",
        "Purpose: Flips an array from left to right (horizontally).\n",
        "Axis: Operates along the second axis (axis 1), effectively reversing the order of the columns.\n",
        "Usage: This function is useful for manipulating 2D arrays (matrices) where you want to reflect the data along the vertical axis.\n",
        "\n",
        "2. flipud()\n",
        "Purpose: Flips an array from up to down (vertically).\n",
        "Axis: Operates along the first axis (axis 0), effectively reversing the order of the rows.\n",
        "Usage: This function is useful for manipulating 2D arrays (matrices) where you want to reflect the data along the horizontal axis.\n",
        "Effects on Various Array Dimensions\n",
        "\n",
        "1.2D Arrays\n",
        "\n",
        "  List item\n",
        "  List item\n",
        "\n",
        "fliplr(): Flips columns, reversing the order of elements in each row.\n",
        "flipud(): Flips rows, reversing the order of elements in each column.\n",
        "\n",
        "2.1D Arrays:\n",
        "Both functions are not applicable since they require at least a 2D array. However, using them on a 1D array will result in an error.\n",
        "\n",
        "3.Higher-Dimensional Arrays:\n",
        "For arrays with more than 2 dimensions, these functions only operate on the first two dimensions (i.e., they will flip the 2D \"slices\" of the higher-dimensional array).\n",
        "For example, for a 3D array, fliplr() will flip each 2D slice left to right, while flipud() will flip each 2D slice up to down."
      ],
      "metadata": {
        "id": "hrKDP7Al5MjJ"
      }
    },
    {
      "cell_type": "markdown",
      "source": [
        "9. Discuss the functionality of the array_split() method in NumPy. How does it handle uneven splits?\n",
        "\n",
        "\n",
        "---\n",
        "The array_split() method in NumPy is a useful function for dividing an array into multiple sub-arrays. It provides a flexible way to split arrays along a specified axis, and it can handle cases where the array does not divide evenly.\n",
        "\n",
        "Functionality of array_split()\n",
        "ary: The input array to be split.\n",
        "indices_or_sections: This parameter specifies either the number of equal sections to create or the specific indices at which to split the array.\n",
        "axis: The axis along which to split the array (default is 0, which means splitting along rows for 2D arrays).\n",
        "How array_split() Works\n",
        "Even Splits: If the array can be evenly divided by the specified number of sections, array_split() will return an equal number of sub-arrays.\n",
        "\n",
        "Uneven Splits: If the array cannot be evenly divided, array_split() handles the situation by distributing the remaining elements across the resulting sub-arrays. This means that some sub-arrays may contain one more element than others.\n",
        "\n",
        "Key Points\n",
        "Handles Uneven Sizes: When the total number of elements is not divisible by the number of desired sections, array_split() will distribute the elements as evenly as possible. Some sub-arrays may have one more element than others.\n",
        "\n",
        "Versatile with Different Dimensions: array_split() can also work with 2D and higher-dimensional arrays, splitting them along the specified axis while maintaining the shape of the sub-arrays."
      ],
      "metadata": {
        "id": "2LzS6rqP5y_Z"
      }
    },
    {
      "cell_type": "markdown",
      "source": [
        "10. Explain the concepts of vectorization and broadcasting in NumPy. How do they contribute to efficient array operations?\n",
        "\n",
        "\n",
        "---\n",
        "\n",
        "Vectorization and broadcasting are two key concepts in NumPy that significantly enhance the efficiency of array operations. Here’s an explanation of both concepts and how they contribute to efficient computation.\n",
        "\n",
        "1. Vectorization\n",
        "Definition: Vectorization refers to the process of implementing operations on entire arrays instead of using explicit loops. In essence, it allows for applying mathematical operations to all elements in an array in a single operation.\n",
        "\n",
        "Benefits:\n",
        "\n",
        "Performance Improvement: Vectorized operations are executed at a lower level (often in C) and are optimized for speed. This leads to significant performance gains compared to using Python loops, which involve more overhead.\n",
        "Cleaner Code: Vectorized code is usually more concise and easier to read, reducing the complexity of array manipulations.\n",
        "2. Broadcasting\n",
        "Definition: Broadcasting is a technique that allows NumPy to perform arithmetic operations on arrays of different shapes and sizes. It automatically expands the smaller array across the larger array in a compatible way.\n",
        "\n",
        "How it Works: Broadcasting follows a set of rules to determine how to stretch the dimensions of the smaller array to match those of the larger array:\n",
        "\n",
        "If the arrays have a different number of dimensions, the smaller array is padded with ones on the left side until they match in dimension.\n",
        "The two arrays are compatible when, for each dimension, the sizes are either the same or one of them is 1.\n",
        "The smaller array is virtually expanded to match the shape of the larger array, allowing for element-wise operations.\n",
        "Benefits:\n",
        "\n",
        "Flexibility: Broadcasting allows for operations between arrays of different shapes, reducing the need for explicit resizing or reshaping of data.\n",
        "Memory Efficiency: Broadcasting avoids the need to create large temporary arrays in memory, as it operates on the original shapes of the arrays."
      ],
      "metadata": {
        "id": "7JgBt15r6RrQ"
      }
    },
    {
      "cell_type": "markdown",
      "source": [
        "# **Practical Questions:**"
      ],
      "metadata": {
        "id": "5B_y5T4b6lUe"
      }
    },
    {
      "cell_type": "code",
      "source": [
        "#1. Create a 3x3 NumPy array with random integers between 1 and 100. Then, interchange its rows and columns\n",
        "import numpy as np\n",
        "# Create a 3x3 NumPy array with random integers between 1 and 100\n",
        "arr = np.random.randint(1, 101, size=(3, 3))\n",
        "print(\"Original Array:\")\n",
        "print(arr)\n",
        "# Interchange rows and columns\n",
        "interchanged_arr = arr.T\n",
        "print(\"\\nInterchanged Array:\")\n",
        "print(interchanged_arr)"
      ],
      "metadata": {
        "colab": {
          "base_uri": "https://localhost:8080/"
        },
        "id": "9XBnwKIs63EN",
        "outputId": "cf11dea1-86b8-460e-ba71-66636ba99371"
      },
      "execution_count": 3,
      "outputs": [
        {
          "output_type": "stream",
          "name": "stdout",
          "text": [
            "Original Array:\n",
            "[[ 94 100  43]\n",
            " [ 65  82  87]\n",
            " [ 42  59  11]]\n",
            "\n",
            "Interchanged Array:\n",
            "[[ 94  65  42]\n",
            " [100  82  59]\n",
            " [ 43  87  11]]\n"
          ]
        }
      ]
    },
    {
      "cell_type": "code",
      "source": [
        "#2. Generate a 1D NumPy array with 10 elements. Reshape it into a 2x5 array, then into a 5x2 array\n",
        "import numpy as np\n",
        "# Generate a 1D NumPy array with 10 elements\n",
        "arr = np.arange(10)\n",
        "print(\"Original 1D Array:\")\n",
        "print\n",
        "# Reshape it into a 2x5 array\n",
        "reshaped_arr1 = arr.reshape(2, 5)\n",
        "print(\"\\nReshaped 2x5 Array:\")\n",
        "print(reshaped_arr1)\n",
        "# Reshape it into a 5x2 array\n",
        "reshaped_arr2 = arr.reshape(5, 2)\n",
        "print(\"\\nReshaped 5x2 Array:\")\n",
        "print(reshaped_arr2)\n"
      ],
      "metadata": {
        "colab": {
          "base_uri": "https://localhost:8080/"
        },
        "id": "ARC1a0h17Bx9",
        "outputId": "6ac290ed-39b1-4a3b-d6cd-24f60d0c84e9"
      },
      "execution_count": 4,
      "outputs": [
        {
          "output_type": "stream",
          "name": "stdout",
          "text": [
            "Original 1D Array:\n",
            "\n",
            "Reshaped 2x5 Array:\n",
            "[[0 1 2 3 4]\n",
            " [5 6 7 8 9]]\n",
            "\n",
            "Reshaped 5x2 Array:\n",
            "[[0 1]\n",
            " [2 3]\n",
            " [4 5]\n",
            " [6 7]\n",
            " [8 9]]\n"
          ]
        }
      ]
    },
    {
      "cell_type": "code",
      "source": [
        "#3. Create a 4x4 NumPy array with random float values. Add a border of zeros around it, resulting in a 6x6 array.\n",
        "import numpy as np\n",
        "\n",
        "# Create a 4x4 array with random float values\n",
        "original_array = np.random.rand(4, 4)\n",
        "\n",
        "# Print the original array\n",
        "print(\"Original 4x4 Array:\")\n",
        "print(original_array)\n",
        "\n",
        "# Add a border of zeros around the array\n",
        "bordered_array = np.pad(original_array, pad_width=1, mode='constant', constant_values=0)\n",
        "\n",
        "# Print the resulting 6x6 array\n",
        "print(\"\\n6x6 Array with Border of Zeros:\")\n",
        "print(bordered_array)\n",
        "\n"
      ],
      "metadata": {
        "colab": {
          "base_uri": "https://localhost:8080/"
        },
        "id": "5UNP2I2T7I_L",
        "outputId": "73f9de86-6362-470d-a9f6-e7b1e4780b6f"
      },
      "execution_count": 5,
      "outputs": [
        {
          "output_type": "stream",
          "name": "stdout",
          "text": [
            "Original 4x4 Array:\n",
            "[[0.19466082 0.97824447 0.38595184 0.01815138]\n",
            " [0.75167552 0.23268516 0.99889949 0.02109805]\n",
            " [0.359877   0.15440452 0.38086485 0.29682301]\n",
            " [0.51571653 0.24681776 0.24194545 0.2754162 ]]\n",
            "\n",
            "6x6 Array with Border of Zeros:\n",
            "[[0.         0.         0.         0.         0.         0.        ]\n",
            " [0.         0.19466082 0.97824447 0.38595184 0.01815138 0.        ]\n",
            " [0.         0.75167552 0.23268516 0.99889949 0.02109805 0.        ]\n",
            " [0.         0.359877   0.15440452 0.38086485 0.29682301 0.        ]\n",
            " [0.         0.51571653 0.24681776 0.24194545 0.2754162  0.        ]\n",
            " [0.         0.         0.         0.         0.         0.        ]]\n"
          ]
        }
      ]
    },
    {
      "cell_type": "code",
      "source": [
        "#4. Using NumPy, create an array of integers from 10 to 60 with a step of 5\n",
        "import numpy as np\n",
        "\n",
        "# Create an array of integers from 10 to 60 with a step of 5\n",
        "array = np.arange(10, 61, 5)\n",
        "\n",
        "# Print the resulting array\n",
        "print(\"Array of integers from 10 to 60 with a step of 5:\")\n",
        "print(array)\n"
      ],
      "metadata": {
        "colab": {
          "base_uri": "https://localhost:8080/"
        },
        "id": "fHTjaTcm7pDf",
        "outputId": "85f58fe3-af56-4919-902b-1cfa0c872b86"
      },
      "execution_count": 6,
      "outputs": [
        {
          "output_type": "stream",
          "name": "stdout",
          "text": [
            "Array of integers from 10 to 60 with a step of 5:\n",
            "[10 15 20 25 30 35 40 45 50 55 60]\n"
          ]
        }
      ]
    },
    {
      "cell_type": "code",
      "source": [
        "#5. Create a NumPy array of strings ['python', 'numpy', 'pandas']. Apply different case transformations (uppercase, lowercase, title case, etc.) to each element\n",
        "import numpy as np\n",
        "\n",
        "# Create a NumPy array of strings\n",
        "array = np.array(['python', 'numpy', 'pandas'])\n",
        "\n",
        "# Apply different case transformations\n",
        "uppercase_array = np.char.upper(array)\n",
        "lowercase_array = np.char.lower(array)\n",
        "titlecase_array = np.char.title(array)\n",
        "\n",
        "# Print the results\n",
        "print(\"Original Array:\")\n",
        "print(array)\n",
        "print(\"\\nUppercase Transformation:\")\n",
        "print(uppercase_array)\n",
        "print(\"\\nLowercase Transformation:\")\n",
        "print(lowercase_array)\n",
        "print(\"\\nTitle Case Transformation:\")\n",
        "print(titlecase_array)\n"
      ],
      "metadata": {
        "colab": {
          "base_uri": "https://localhost:8080/"
        },
        "id": "_pY0Oqik73Ql",
        "outputId": "a21a84b0-a297-4cd9-a1f7-fb3ab6aac0a8"
      },
      "execution_count": 7,
      "outputs": [
        {
          "output_type": "stream",
          "name": "stdout",
          "text": [
            "Original Array:\n",
            "['python' 'numpy' 'pandas']\n",
            "\n",
            "Uppercase Transformation:\n",
            "['PYTHON' 'NUMPY' 'PANDAS']\n",
            "\n",
            "Lowercase Transformation:\n",
            "['python' 'numpy' 'pandas']\n",
            "\n",
            "Title Case Transformation:\n",
            "['Python' 'Numpy' 'Pandas']\n"
          ]
        }
      ]
    },
    {
      "cell_type": "code",
      "source": [
        "#6. Generate a NumPy array of words. Insert a space between each character of every word in the array\n",
        "import numpy as np\n",
        "\n",
        "# Create a NumPy array of words\n",
        "words = np.array(['hello', 'world', 'numpy', 'python'])\n",
        "\n",
        "# Insert a space between each character of every word\n",
        "spaced_words = np.array([' '.join(word) for word in words])\n",
        "\n",
        "# Print the resulting array\n",
        "print(\"Original Array of Words:\")\n",
        "print(words)\n",
        "print(\"\\nArray with Spaces Between Characters:\")\n",
        "print(spaced_words)\n"
      ],
      "metadata": {
        "colab": {
          "base_uri": "https://localhost:8080/"
        },
        "id": "Wglp0NSC8G2K",
        "outputId": "0bdd4353-f8be-4b42-8537-af2056986f7f"
      },
      "execution_count": 8,
      "outputs": [
        {
          "output_type": "stream",
          "name": "stdout",
          "text": [
            "Original Array of Words:\n",
            "['hello' 'world' 'numpy' 'python']\n",
            "\n",
            "Array with Spaces Between Characters:\n",
            "['h e l l o' 'w o r l d' 'n u m p y' 'p y t h o n']\n"
          ]
        }
      ]
    },
    {
      "cell_type": "code",
      "source": [
        "#7. Create two 2D NumPy arrays and perform element-wise addition, subtraction, multiplication, and division.\n",
        "import numpy as np\n",
        "arr1 = np.array([[1, 2], [3, 4]])\n",
        "arr2 = np.array([[5, 6], [7, 8]])\n",
        "arr_add = arr1 + arr2\n",
        "arr_sub = arr1 - arr2\n",
        "arr_mul = arr1 * arr2\n",
        "arr_div = arr1 / arr2\n",
        "print(arr_add)\n",
        "print(arr_sub)\n",
        "print(arr_mul)\n",
        "print(arr_div)\n"
      ],
      "metadata": {
        "colab": {
          "base_uri": "https://localhost:8080/"
        },
        "id": "lHsYaKms8Ple",
        "outputId": "292fdf17-4240-4047-8db5-a8320af3cca2"
      },
      "execution_count": 9,
      "outputs": [
        {
          "output_type": "stream",
          "name": "stdout",
          "text": [
            "[[ 6  8]\n",
            " [10 12]]\n",
            "[[-4 -4]\n",
            " [-4 -4]]\n",
            "[[ 5 12]\n",
            " [21 32]]\n",
            "[[0.2        0.33333333]\n",
            " [0.42857143 0.5       ]]\n"
          ]
        }
      ]
    },
    {
      "cell_type": "code",
      "source": [
        "#8. Use NumPy to create a 5x5 identity matrix, then extract its diagonal elements.\n",
        "import numpy as np\n",
        "# Create a 5x5 identity matrix\n",
        "identity_matrix = np.eye(5)\n",
        "print(\"Identity Matrix:\")\n",
        "print(identity_matrix)\n",
        "# Extract the diagonal Elements\n",
        "diagonal_elements = np.diag(identity_matrix)\n",
        "print(\"\\nDiagonal Elements:\")\n",
        "print(diagonal_elements)"
      ],
      "metadata": {
        "colab": {
          "base_uri": "https://localhost:8080/"
        },
        "id": "qjFlHhgD8Yg9",
        "outputId": "ad962252-a1e6-4b49-86bf-e3b246c978ff"
      },
      "execution_count": 10,
      "outputs": [
        {
          "output_type": "stream",
          "name": "stdout",
          "text": [
            "Identity Matrix:\n",
            "[[1. 0. 0. 0. 0.]\n",
            " [0. 1. 0. 0. 0.]\n",
            " [0. 0. 1. 0. 0.]\n",
            " [0. 0. 0. 1. 0.]\n",
            " [0. 0. 0. 0. 1.]]\n",
            "\n",
            "Diagonal Elements:\n",
            "[1. 1. 1. 1. 1.]\n"
          ]
        }
      ]
    },
    {
      "cell_type": "code",
      "source": [
        "#9. Generate a NumPy array of 100 random integers between 0 and 1000. Find and display all prime numbers in this array\n",
        "import numpy as np\n",
        "\n",
        "# Generate a NumPy array of 100 random integers between 0 and 1000\n",
        "random_integers = np.random.randint(0, 1001, size=100)\n",
        "\n",
        "# Function to check if a number is prime\n",
        "def is_prime(n):\n",
        "    if n <= 1:\n",
        "        return False\n",
        "    for i in range(2, int(n**0.5) + 1):\n",
        "        if n % i == 0:\n",
        "            return False\n",
        "    return True\n",
        "\n",
        "# Find all prime numbers in the array\n",
        "prime_numbers = [num for num in random_integers if is_prime(num)]\n",
        "\n",
        "# Print the results\n",
        "print(\"Random Integers Array:\")\n",
        "print(random_integers)\n",
        "print(\"\\nPrime Numbers in the Array:\")\n",
        "print(prime_numbers)\n"
      ],
      "metadata": {
        "colab": {
          "base_uri": "https://localhost:8080/"
        },
        "id": "G7ar8CLw8jC1",
        "outputId": "de1bb60e-3958-4b83-ccf2-e81a916e7c6b"
      },
      "execution_count": 11,
      "outputs": [
        {
          "output_type": "stream",
          "name": "stdout",
          "text": [
            "Random Integers Array:\n",
            "[346 631 441 918 608 956 265 115 154 408 253 298  21  24 914 968 812 930\n",
            " 801 900 709  34 914 837 253 440 878 914 856 391 882 653 222  39 779 979\n",
            " 419  30 691 935 997 747  52  96 156 646 262 395 945 948 579 188 162 700\n",
            " 710 759 409 208 103 158 637 456  17 345 781 177 307  22 552 636 771 999\n",
            " 446 773 479 282 872 119 696 966 929  44 405 264 665 982 935 141 852 274\n",
            " 260 653 354 595 198 288 853 277 232 169]\n",
            "\n",
            "Prime Numbers in the Array:\n",
            "[631, 709, 653, 419, 691, 997, 409, 103, 17, 307, 773, 479, 929, 653, 853, 277]\n"
          ]
        }
      ]
    },
    {
      "cell_type": "code",
      "source": [
        "#10. Create a NumPy array representing daily temperatures for a month. Calculate and display the weekly averages\n",
        "import numpy as np\n",
        "\n",
        "# Create a NumPy array representing daily temperatures for a month\n",
        "temperatures = np.array([72, 73, 74, 75, 76, 77, 78,\n",
        "                         79, 80, 81, 82, 83, 84, 85, 86,\n",
        "                         87, 88, 89, 90, 91, 92, 93, 94, 95,\n",
        "                         96, 97, 98, 99, 100, 101, 102, 103,\n",
        "                         104, 105, 106, 107, 108, 109, 110, 111,\n",
        "                         112, 113, 114, 115, 116, 117, 118, 119, 120])\n",
        "\n",
        "# Calculate the number of days in a week\n",
        "days_in_week = 7\n",
        "\n",
        "# Calculate the number of weeks in the month\n",
        "weeks_in_month = len(temperatures) // days_in_week\n",
        "\n",
        "# Reshape the temperature array into weeks\n",
        "weekly_temperatures = temperatures.reshape(weeks_in_month, days_in_week)\n",
        "\n",
        "# Calculate the weekly averages\n",
        "weekly_averages = np.mean(weekly_temperatures, axis=1)\n",
        "\n",
        "# Display the weekly averages\n",
        "print(\"Weekly Averages:\")\n",
        "for i, avg_temp in enumerate(weekly_averages):\n",
        "    print(f\"Week {i + 1}: {avg_temp:.2f}°F\")\n",
        ""
      ],
      "metadata": {
        "colab": {
          "base_uri": "https://localhost:8080/"
        },
        "id": "299CmCFR86Yj",
        "outputId": "30909d04-5e02-4b35-9c17-e6b8af69f485"
      },
      "execution_count": 12,
      "outputs": [
        {
          "output_type": "stream",
          "name": "stdout",
          "text": [
            "Weekly Averages:\n",
            "Week 1: 75.00°F\n",
            "Week 2: 82.00°F\n",
            "Week 3: 89.00°F\n",
            "Week 4: 96.00°F\n",
            "Week 5: 103.00°F\n",
            "Week 6: 110.00°F\n",
            "Week 7: 117.00°F\n"
          ]
        }
      ]
    },
    {
      "cell_type": "code",
      "source": [],
      "metadata": {
        "id": "FnE8vDSa9myA"
      },
      "execution_count": null,
      "outputs": []
    }
  ]
}